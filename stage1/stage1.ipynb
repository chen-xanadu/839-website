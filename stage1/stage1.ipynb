{
 "cells": [
  {
   "cell_type": "code",
   "execution_count": 1,
   "metadata": {},
   "outputs": [],
   "source": [
    "import os\n",
    "from multiprocessing import Pool\n",
    "\n",
    "import numpy as np\n",
    "import pandas as pd\n",
    "from sklearn.compose import ColumnTransformer\n",
    "from sklearn.ensemble import RandomForestClassifier, AdaBoostClassifier\n",
    "from sklearn.linear_model import LogisticRegression, RidgeClassifier, SGDClassifier\n",
    "from sklearn.metrics import recall_score, precision_score, f1_score\n",
    "from sklearn.model_selection import cross_validate\n",
    "from sklearn.neighbors import KNeighborsClassifier\n",
    "from sklearn.neural_network import MLPClassifier\n",
    "from sklearn.preprocessing import OneHotEncoder\n",
    "from sklearn.preprocessing import StandardScaler\n",
    "from sklearn.svm import SVC\n",
    "from sklearn.tree import DecisionTreeClassifier\n",
    "from IPython.display import display\n",
    "\n",
    "from feature_extraction import extract_features, get_feature_names\n",
    "from text_processing import get_instances"
   ]
  },
  {
   "cell_type": "code",
   "execution_count": 2,
   "metadata": {},
   "outputs": [],
   "source": [
    "TRAIN_DOCS_DIR = './documents/set_I'\n",
    "TEST_DOCS_DIR = './documents/set_J'"
   ]
  },
  {
   "cell_type": "markdown",
   "metadata": {},
   "source": [
    "### Get instances from the training set"
   ]
  },
  {
   "cell_type": "code",
   "execution_count": 3,
   "metadata": {},
   "outputs": [
    {
     "name": "stdout",
     "output_type": "stream",
     "text": [
      "CPU times: user 1.13 s, sys: 53.4 ms, total: 1.19 s\n",
      "Wall time: 1.24 s\n"
     ]
    }
   ],
   "source": [
    "%%time\n",
    "instances = []\n",
    "for i in range(200):\n",
    "    text_file = os.path.join(TRAIN_DOCS_DIR, f'{i}.txt')\n",
    "\n",
    "    if not os.path.isfile(text_file):\n",
    "        continue\n",
    "\n",
    "    with open(text_file) as f:\n",
    "        text = f.read()\n",
    "\n",
    "    instances += get_instances(text, i)"
   ]
  },
  {
   "cell_type": "markdown",
   "metadata": {},
   "source": [
    "**Example instance:**"
   ]
  },
  {
   "cell_type": "code",
   "execution_count": 4,
   "metadata": {},
   "outputs": [
    {
     "data": {
      "text/plain": [
       "Instance(term=['On'], label=False, pre=[], post=['their', 'way', 'to', 'perform', 'in', 'Guam', 'for', 'the', 'troops', ',', 'nightclub', 'performers', 'Duke', 'Mitchell', 'and', 'Sammy', 'Petrillo', 'find', 'themselves', 'stranded', 'on', 'a', 'seemingly', 'treacherous', 'island', ',', 'known', 'by', 'the', 'natives', 'as', '``', 'Kola', 'Kola', \"''\", '.'], term_pos=['OTHER'], pre_pos=[], post_pos=['OTHER', 'NOUN', 'OTHER', 'VERB', 'OTHER', 'NOUN', 'OTHER', 'OTHER', 'NOUN', 'OTHER', 'OTHER', 'NOUN', 'NOUN', 'NOUN', 'OTHER', 'NOUN', 'NOUN', 'VERB', 'OTHER', 'VERB', 'OTHER', 'OTHER', 'OTHER', 'OTHER', 'NOUN', 'OTHER', 'VERB', 'OTHER', 'OTHER', 'NOUN', 'OTHER', 'OTHER', 'NOUN', 'NOUN', 'OTHER', 'OTHER'], file_idx=0)"
      ]
     },
     "metadata": {},
     "output_type": "display_data"
    }
   ],
   "source": [
    "display(instances[0])"
   ]
  },
  {
   "cell_type": "markdown",
   "metadata": {},
   "source": [
    "### Extract feature vectors from instances"
   ]
  },
  {
   "cell_type": "code",
   "execution_count": 5,
   "metadata": {},
   "outputs": [
    {
     "name": "stdout",
     "output_type": "stream",
     "text": [
      "CPU times: user 66.5 ms, sys: 61.1 ms, total: 128 ms\n",
      "Wall time: 2.95 s\n"
     ]
    }
   ],
   "source": [
    "%%time\n",
    "feature_names = get_feature_names()\n",
    "\n",
    "with Pool() as p:\n",
    "    features = p.map(extract_features, instances)\n",
    "\n",
    "data = pd.DataFrame(features, columns=feature_names)"
   ]
  },
  {
   "cell_type": "markdown",
   "metadata": {},
   "source": [
    "**Example feature vectors:**  \n",
    "See the documentation in feature_extraction.py for detailed explaination of each feature."
   ]
  },
  {
   "cell_type": "code",
   "execution_count": 6,
   "metadata": {},
   "outputs": [
    {
     "data": {
      "text/html": [
       "<div>\n",
       "<style scoped>\n",
       "    .dataframe tbody tr th:only-of-type {\n",
       "        vertical-align: middle;\n",
       "    }\n",
       "\n",
       "    .dataframe tbody tr th {\n",
       "        vertical-align: top;\n",
       "    }\n",
       "\n",
       "    .dataframe thead th {\n",
       "        text-align: right;\n",
       "    }\n",
       "</style>\n",
       "<table border=\"1\" class=\"dataframe\">\n",
       "  <thead>\n",
       "    <tr style=\"text-align: right;\">\n",
       "      <th></th>\n",
       "      <th>n_words</th>\n",
       "      <th>avg_word_len</th>\n",
       "      <th>has_title_prefix</th>\n",
       "      <th>contains_title</th>\n",
       "      <th>has_preceding_article</th>\n",
       "      <th>contains_article</th>\n",
       "      <th>has_possessive_suffix</th>\n",
       "      <th>has_following_parenthesis</th>\n",
       "      <th>is_in_parenthesis</th>\n",
       "      <th>is_beginning_of_sentence</th>\n",
       "      <th>has_preceding_named</th>\n",
       "      <th>has_punctuation</th>\n",
       "      <th>has_stopwords</th>\n",
       "      <th>has_following_article</th>\n",
       "      <th>has_verb_nearby</th>\n",
       "      <th>has_pronoun_nearby</th>\n",
       "      <th>has_dictionary_word</th>\n",
       "      <th>is_all_dictionary_words</th>\n",
       "      <th>preceding_preposition</th>\n",
       "      <th>following_wh_word</th>\n",
       "      <th>prev_word_suffix</th>\n",
       "      <th>term_pos</th>\n",
       "      <th>next_word_pos</th>\n",
       "      <th>prev_word_pos</th>\n",
       "      <th>label</th>\n",
       "    </tr>\n",
       "  </thead>\n",
       "  <tbody>\n",
       "    <tr>\n",
       "      <th>0</th>\n",
       "      <td>1</td>\n",
       "      <td>2</td>\n",
       "      <td>False</td>\n",
       "      <td>False</td>\n",
       "      <td>False</td>\n",
       "      <td>False</td>\n",
       "      <td>False</td>\n",
       "      <td>False</td>\n",
       "      <td>False</td>\n",
       "      <td>True</td>\n",
       "      <td>False</td>\n",
       "      <td>False</td>\n",
       "      <td>True</td>\n",
       "      <td>False</td>\n",
       "      <td>True</td>\n",
       "      <td>False</td>\n",
       "      <td>True</td>\n",
       "      <td>True</td>\n",
       "      <td></td>\n",
       "      <td></td>\n",
       "      <td></td>\n",
       "      <td>OTHER</td>\n",
       "      <td>OTHER</td>\n",
       "      <td></td>\n",
       "      <td>False</td>\n",
       "    </tr>\n",
       "    <tr>\n",
       "      <th>1</th>\n",
       "      <td>1</td>\n",
       "      <td>4</td>\n",
       "      <td>False</td>\n",
       "      <td>False</td>\n",
       "      <td>False</td>\n",
       "      <td>False</td>\n",
       "      <td>False</td>\n",
       "      <td>False</td>\n",
       "      <td>False</td>\n",
       "      <td>False</td>\n",
       "      <td>False</td>\n",
       "      <td>False</td>\n",
       "      <td>False</td>\n",
       "      <td>False</td>\n",
       "      <td>False</td>\n",
       "      <td>False</td>\n",
       "      <td>False</td>\n",
       "      <td>False</td>\n",
       "      <td>in</td>\n",
       "      <td></td>\n",
       "      <td>in</td>\n",
       "      <td>NOUN</td>\n",
       "      <td>OTHER</td>\n",
       "      <td>OTHER</td>\n",
       "      <td>False</td>\n",
       "    </tr>\n",
       "    <tr>\n",
       "      <th>2</th>\n",
       "      <td>1</td>\n",
       "      <td>4</td>\n",
       "      <td>False</td>\n",
       "      <td>False</td>\n",
       "      <td>False</td>\n",
       "      <td>False</td>\n",
       "      <td>False</td>\n",
       "      <td>False</td>\n",
       "      <td>False</td>\n",
       "      <td>False</td>\n",
       "      <td>False</td>\n",
       "      <td>False</td>\n",
       "      <td>False</td>\n",
       "      <td>False</td>\n",
       "      <td>False</td>\n",
       "      <td>False</td>\n",
       "      <td>True</td>\n",
       "      <td>True</td>\n",
       "      <td></td>\n",
       "      <td></td>\n",
       "      <td>rs</td>\n",
       "      <td>NOUN</td>\n",
       "      <td>NOUN</td>\n",
       "      <td>NOUN</td>\n",
       "      <td>True</td>\n",
       "    </tr>\n",
       "    <tr>\n",
       "      <th>3</th>\n",
       "      <td>1</td>\n",
       "      <td>8</td>\n",
       "      <td>False</td>\n",
       "      <td>False</td>\n",
       "      <td>False</td>\n",
       "      <td>False</td>\n",
       "      <td>False</td>\n",
       "      <td>False</td>\n",
       "      <td>False</td>\n",
       "      <td>False</td>\n",
       "      <td>False</td>\n",
       "      <td>False</td>\n",
       "      <td>False</td>\n",
       "      <td>False</td>\n",
       "      <td>True</td>\n",
       "      <td>False</td>\n",
       "      <td>False</td>\n",
       "      <td>False</td>\n",
       "      <td></td>\n",
       "      <td></td>\n",
       "      <td>rs</td>\n",
       "      <td>NOUN</td>\n",
       "      <td>OTHER</td>\n",
       "      <td>NOUN</td>\n",
       "      <td>True</td>\n",
       "    </tr>\n",
       "    <tr>\n",
       "      <th>4</th>\n",
       "      <td>1</td>\n",
       "      <td>5</td>\n",
       "      <td>False</td>\n",
       "      <td>False</td>\n",
       "      <td>False</td>\n",
       "      <td>False</td>\n",
       "      <td>False</td>\n",
       "      <td>False</td>\n",
       "      <td>False</td>\n",
       "      <td>False</td>\n",
       "      <td>False</td>\n",
       "      <td>False</td>\n",
       "      <td>False</td>\n",
       "      <td>False</td>\n",
       "      <td>True</td>\n",
       "      <td>False</td>\n",
       "      <td>True</td>\n",
       "      <td>True</td>\n",
       "      <td></td>\n",
       "      <td></td>\n",
       "      <td>nd</td>\n",
       "      <td>NOUN</td>\n",
       "      <td>NOUN</td>\n",
       "      <td>OTHER</td>\n",
       "      <td>True</td>\n",
       "    </tr>\n",
       "  </tbody>\n",
       "</table>\n",
       "</div>"
      ],
      "text/plain": [
       "   n_words  avg_word_len  has_title_prefix  contains_title  \\\n",
       "0        1             2             False           False   \n",
       "1        1             4             False           False   \n",
       "2        1             4             False           False   \n",
       "3        1             8             False           False   \n",
       "4        1             5             False           False   \n",
       "\n",
       "   has_preceding_article  contains_article  has_possessive_suffix  \\\n",
       "0                  False             False                  False   \n",
       "1                  False             False                  False   \n",
       "2                  False             False                  False   \n",
       "3                  False             False                  False   \n",
       "4                  False             False                  False   \n",
       "\n",
       "   has_following_parenthesis  is_in_parenthesis  is_beginning_of_sentence  \\\n",
       "0                      False              False                      True   \n",
       "1                      False              False                     False   \n",
       "2                      False              False                     False   \n",
       "3                      False              False                     False   \n",
       "4                      False              False                     False   \n",
       "\n",
       "   has_preceding_named  has_punctuation  has_stopwords  has_following_article  \\\n",
       "0                False            False           True                  False   \n",
       "1                False            False          False                  False   \n",
       "2                False            False          False                  False   \n",
       "3                False            False          False                  False   \n",
       "4                False            False          False                  False   \n",
       "\n",
       "   has_verb_nearby  has_pronoun_nearby  has_dictionary_word  \\\n",
       "0             True               False                 True   \n",
       "1            False               False                False   \n",
       "2            False               False                 True   \n",
       "3             True               False                False   \n",
       "4             True               False                 True   \n",
       "\n",
       "   is_all_dictionary_words preceding_preposition following_wh_word  \\\n",
       "0                     True                                           \n",
       "1                    False                    in                     \n",
       "2                     True                                           \n",
       "3                    False                                           \n",
       "4                     True                                           \n",
       "\n",
       "  prev_word_suffix term_pos next_word_pos prev_word_pos  label  \n",
       "0                     OTHER         OTHER                False  \n",
       "1               in     NOUN         OTHER         OTHER  False  \n",
       "2               rs     NOUN          NOUN          NOUN   True  \n",
       "3               rs     NOUN         OTHER          NOUN   True  \n",
       "4               nd     NOUN          NOUN         OTHER   True  "
      ]
     },
     "metadata": {},
     "output_type": "display_data"
    }
   ],
   "source": [
    "pd.set_option('display.max_columns', 500)\n",
    "display(data.head())"
   ]
  },
  {
   "cell_type": "markdown",
   "metadata": {},
   "source": [
    "### Preprocess data\n",
    "Apply one-hot encoding to categorical features, and standardize numeric features"
   ]
  },
  {
   "cell_type": "code",
   "execution_count": 7,
   "metadata": {},
   "outputs": [
    {
     "name": "stdout",
     "output_type": "stream",
     "text": [
      "CPU times: user 42.1 ms, sys: 16.3 ms, total: 58.4 ms\n",
      "Wall time: 58.8 ms\n"
     ]
    },
    {
     "name": "stderr",
     "output_type": "stream",
     "text": [
      "/Users/ychen/.conda/envs/stage1/lib/python3.7/site-packages/sklearn/preprocessing/data.py:625: DataConversionWarning: Data with input dtype int64 were all converted to float64 by StandardScaler.\n",
      "  return self.partial_fit(X, y)\n",
      "/Users/ychen/.conda/envs/stage1/lib/python3.7/site-packages/sklearn/base.py:462: DataConversionWarning: Data with input dtype int64 were all converted to float64 by StandardScaler.\n",
      "  return self.fit(X, **fit_params).transform(X)\n"
     ]
    }
   ],
   "source": [
    "%%time\n",
    "numeric_features = data.dtypes[data.dtypes == int].keys().values.tolist()\n",
    "categorical_features = data.dtypes[data.dtypes == object].keys().values.tolist()\n",
    "\n",
    "preprocessor = ColumnTransformer(\n",
    "    transformers=[\n",
    "        ('cat', OneHotEncoder(handle_unknown='ignore'), categorical_features),\n",
    "        ('num', StandardScaler(), numeric_features)],\n",
    "    remainder='passthrough')\n",
    "\n",
    "D_train = preprocessor.fit_transform(data)\n",
    "\n",
    "X_train = D_train[:, :-1].toarray()\n",
    "y_train = D_train[:, -1].astype(int).toarray().flatten()"
   ]
  },
  {
   "cell_type": "code",
   "execution_count": 8,
   "metadata": {},
   "outputs": [
    {
     "name": "stdout",
     "output_type": "stream",
     "text": [
      "X_train shape: (4043, 185)\n",
      "y_train shape: (4043,)\n"
     ]
    }
   ],
   "source": [
    "print(f'X_train shape: {X_train.shape}')\n",
    "print(f'y_train shape: {y_train.shape}')"
   ]
  },
  {
   "cell_type": "markdown",
   "metadata": {},
   "source": [
    "### Perform cross-validation"
   ]
  },
  {
   "cell_type": "code",
   "execution_count": 9,
   "metadata": {},
   "outputs": [
    {
     "name": "stderr",
     "output_type": "stream",
     "text": [
      "/Users/ychen/.conda/envs/stage1/lib/python3.7/site-packages/sklearn/ensemble/forest.py:246: FutureWarning: The default value of n_estimators will change from 10 in version 0.20 to 100 in 0.22.\n",
      "  \"10 in version 0.20 to 100 in 0.22.\", FutureWarning)\n",
      "/Users/ychen/.conda/envs/stage1/lib/python3.7/site-packages/sklearn/ensemble/forest.py:246: FutureWarning: The default value of n_estimators will change from 10 in version 0.20 to 100 in 0.22.\n",
      "  \"10 in version 0.20 to 100 in 0.22.\", FutureWarning)\n",
      "/Users/ychen/.conda/envs/stage1/lib/python3.7/site-packages/sklearn/ensemble/forest.py:246: FutureWarning: The default value of n_estimators will change from 10 in version 0.20 to 100 in 0.22.\n",
      "  \"10 in version 0.20 to 100 in 0.22.\", FutureWarning)\n",
      "/Users/ychen/.conda/envs/stage1/lib/python3.7/site-packages/sklearn/linear_model/stochastic_gradient.py:166: FutureWarning: max_iter and tol parameters have been added in SGDClassifier in 0.19. If both are left unset, they default to max_iter=5 and tol=None. If tol is not None, max_iter defaults to max_iter=1000. From 0.21, default max_iter will be 1000, and default tol will be 1e-3.\n",
      "  FutureWarning)\n",
      "/Users/ychen/.conda/envs/stage1/lib/python3.7/site-packages/sklearn/linear_model/stochastic_gradient.py:166: FutureWarning: max_iter and tol parameters have been added in SGDClassifier in 0.19. If both are left unset, they default to max_iter=5 and tol=None. If tol is not None, max_iter defaults to max_iter=1000. From 0.21, default max_iter will be 1000, and default tol will be 1e-3.\n",
      "  FutureWarning)\n",
      "/Users/ychen/.conda/envs/stage1/lib/python3.7/site-packages/sklearn/linear_model/stochastic_gradient.py:166: FutureWarning: max_iter and tol parameters have been added in SGDClassifier in 0.19. If both are left unset, they default to max_iter=5 and tol=None. If tol is not None, max_iter defaults to max_iter=1000. From 0.21, default max_iter will be 1000, and default tol will be 1e-3.\n",
      "  FutureWarning)\n"
     ]
    },
    {
     "name": "stdout",
     "output_type": "stream",
     "text": [
      "CPU times: user 16.5 s, sys: 65.3 ms, total: 16.5 s\n",
      "Wall time: 7.65 s\n"
     ]
    }
   ],
   "source": [
    "%%time\n",
    "classifiers = [DecisionTreeClassifier(random_state=0),\n",
    "               RandomForestClassifier(random_state=0),\n",
    "               SVC(kernel=\"linear\", random_state=0),\n",
    "               RidgeClassifier(random_state=0),\n",
    "               LogisticRegression(solver='lbfgs', tol=1e-3, max_iter=400, random_state=0),\n",
    "               SGDClassifier(loss=\"log\", random_state=0),\n",
    "               MLPClassifier(early_stopping=True, random_state=0),\n",
    "               AdaBoostClassifier(random_state=0),\n",
    "               KNeighborsClassifier(3)]\n",
    "\n",
    "cv_scores = pd.DataFrame(columns=['Classifier', 'Precision', 'Recall', 'F1'])\n",
    "for i, clf in enumerate(classifiers):\n",
    "    s = cross_validate(clf, X_train, y_train, scoring=['recall', 'precision', 'f1'], cv=3, return_train_score=False)\n",
    "    cv_scores.loc[i] = [clf.__class__.__name__,\n",
    "                        s['test_precision'].mean(),\n",
    "                        s['test_recall'].mean(),\n",
    "                        s['test_f1'].mean()]"
   ]
  },
  {
   "cell_type": "code",
   "execution_count": 10,
   "metadata": {},
   "outputs": [
    {
     "data": {
      "text/html": [
       "<div>\n",
       "<style scoped>\n",
       "    .dataframe tbody tr th:only-of-type {\n",
       "        vertical-align: middle;\n",
       "    }\n",
       "\n",
       "    .dataframe tbody tr th {\n",
       "        vertical-align: top;\n",
       "    }\n",
       "\n",
       "    .dataframe thead th {\n",
       "        text-align: right;\n",
       "    }\n",
       "</style>\n",
       "<table border=\"1\" class=\"dataframe\">\n",
       "  <thead>\n",
       "    <tr style=\"text-align: right;\">\n",
       "      <th></th>\n",
       "      <th>Classifier</th>\n",
       "      <th>Precision</th>\n",
       "      <th>Recall</th>\n",
       "      <th>F1</th>\n",
       "    </tr>\n",
       "  </thead>\n",
       "  <tbody>\n",
       "    <tr>\n",
       "      <th>0</th>\n",
       "      <td>DecisionTreeClassifier</td>\n",
       "      <td>0.870610</td>\n",
       "      <td>0.879043</td>\n",
       "      <td>0.874477</td>\n",
       "    </tr>\n",
       "    <tr>\n",
       "      <th>1</th>\n",
       "      <td>RandomForestClassifier</td>\n",
       "      <td>0.891753</td>\n",
       "      <td>0.905830</td>\n",
       "      <td>0.898620</td>\n",
       "    </tr>\n",
       "    <tr>\n",
       "      <th>2</th>\n",
       "      <td>SVC</td>\n",
       "      <td>0.885724</td>\n",
       "      <td>0.945575</td>\n",
       "      <td>0.914566</td>\n",
       "    </tr>\n",
       "    <tr>\n",
       "      <th>3</th>\n",
       "      <td>RidgeClassifier</td>\n",
       "      <td>0.878819</td>\n",
       "      <td>0.953350</td>\n",
       "      <td>0.914461</td>\n",
       "    </tr>\n",
       "    <tr>\n",
       "      <th>4</th>\n",
       "      <td>LogisticRegression</td>\n",
       "      <td>0.894846</td>\n",
       "      <td>0.941684</td>\n",
       "      <td>0.917546</td>\n",
       "    </tr>\n",
       "    <tr>\n",
       "      <th>5</th>\n",
       "      <td>SGDClassifier</td>\n",
       "      <td>0.921422</td>\n",
       "      <td>0.850974</td>\n",
       "      <td>0.884346</td>\n",
       "    </tr>\n",
       "    <tr>\n",
       "      <th>6</th>\n",
       "      <td>MLPClassifier</td>\n",
       "      <td>0.901715</td>\n",
       "      <td>0.938223</td>\n",
       "      <td>0.919375</td>\n",
       "    </tr>\n",
       "    <tr>\n",
       "      <th>7</th>\n",
       "      <td>AdaBoostClassifier</td>\n",
       "      <td>0.895683</td>\n",
       "      <td>0.938661</td>\n",
       "      <td>0.916342</td>\n",
       "    </tr>\n",
       "    <tr>\n",
       "      <th>8</th>\n",
       "      <td>KNeighborsClassifier</td>\n",
       "      <td>0.877466</td>\n",
       "      <td>0.897188</td>\n",
       "      <td>0.887216</td>\n",
       "    </tr>\n",
       "  </tbody>\n",
       "</table>\n",
       "</div>"
      ],
      "text/plain": [
       "               Classifier  Precision    Recall        F1\n",
       "0  DecisionTreeClassifier   0.870610  0.879043  0.874477\n",
       "1  RandomForestClassifier   0.891753  0.905830  0.898620\n",
       "2                     SVC   0.885724  0.945575  0.914566\n",
       "3         RidgeClassifier   0.878819  0.953350  0.914461\n",
       "4      LogisticRegression   0.894846  0.941684  0.917546\n",
       "5           SGDClassifier   0.921422  0.850974  0.884346\n",
       "6           MLPClassifier   0.901715  0.938223  0.919375\n",
       "7      AdaBoostClassifier   0.895683  0.938661  0.916342\n",
       "8    KNeighborsClassifier   0.877466  0.897188  0.887216"
      ]
     },
     "metadata": {},
     "output_type": "display_data"
    }
   ],
   "source": [
    "display(cv_scores)"
   ]
  },
  {
   "cell_type": "markdown",
   "metadata": {},
   "source": [
    "### Select the best classifier and apply on test set"
   ]
  },
  {
   "cell_type": "code",
   "execution_count": 11,
   "metadata": {},
   "outputs": [
    {
     "name": "stdout",
     "output_type": "stream",
     "text": [
      "CPU times: user 3.34 s, sys: 79.8 ms, total: 3.42 s\n",
      "Wall time: 2.16 s\n"
     ]
    },
    {
     "name": "stderr",
     "output_type": "stream",
     "text": [
      "/Users/ychen/.conda/envs/stage1/lib/python3.7/site-packages/sklearn/pipeline.py:605: DataConversionWarning: Data with input dtype int64 were all converted to float64 by StandardScaler.\n",
      "  res = transformer.transform(X)\n"
     ]
    }
   ],
   "source": [
    "%%time\n",
    "clf = MLPClassifier(early_stopping=True, random_state=0)\n",
    "clf.fit(X_train, y_train)\n",
    "\n",
    "instances_ = []\n",
    "\n",
    "for i in range(200, 300):\n",
    "    text_file = os.path.join(TEST_DOCS_DIR, f'{i}.txt')\n",
    "\n",
    "    if not os.path.isfile(text_file):\n",
    "        continue\n",
    "\n",
    "    with open(text_file) as f:\n",
    "        text = f.read()\n",
    "\n",
    "    instances_ += get_instances(text, i)\n",
    "\n",
    "with Pool() as p:\n",
    "    features_ = p.map(extract_features, instances_)\n",
    "\n",
    "data_ = pd.DataFrame(features_, columns=feature_names)\n",
    "\n",
    "D_test = preprocessor.transform(data_)\n",
    "\n",
    "X_test = D_test[:, :-1].toarray()\n",
    "y_test = D_test[:, -1].astype(int).toarray().flatten()\n",
    "\n",
    "y_test_predicted = clf.predict(X_test)"
   ]
  },
  {
   "cell_type": "code",
   "execution_count": 12,
   "metadata": {},
   "outputs": [
    {
     "name": "stdout",
     "output_type": "stream",
     "text": [
      "precision: 0.9200359389038635\n",
      "recall: 0.9126559714795008\n",
      "f1: 0.916331096196868\n"
     ]
    }
   ],
   "source": [
    "print(f'precision: {precision_score(y_test, y_test_predicted)}')\n",
    "print(f'recall: {recall_score(y_test, y_test_predicted)}')\n",
    "print(f'f1: {f1_score(y_test, y_test_predicted)}')"
   ]
  },
  {
   "cell_type": "code",
   "execution_count": null,
   "metadata": {},
   "outputs": [],
   "source": []
  }
 ],
 "metadata": {
  "kernelspec": {
   "display_name": "Python 3",
   "language": "python",
   "name": "python3"
  },
  "language_info": {
   "codemirror_mode": {
    "name": "ipython",
    "version": 3
   },
   "file_extension": ".py",
   "mimetype": "text/x-python",
   "name": "python",
   "nbconvert_exporter": "python",
   "pygments_lexer": "ipython3",
   "version": "3.7.2"
  }
 },
 "nbformat": 4,
 "nbformat_minor": 2
}
